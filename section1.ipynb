{
 "cells": [
  {
   "cell_type": "markdown",
   "metadata": {},
   "source": [
    "**Command Line:** An interface to computer which relies on entirely on text.  \n",
    "**Terminal emulator:** e.g. zsh or command prompt. An input output device that allows the key input into something that the shell can use.  \n",
    "**Shell:** a sort of program that serves as an interface between the user of a computer and the computer itself. Will recieve return data and printed on the screen.  \n",
    "**Command Line Shell:** the shell that deals entirely with just text and uses text as its interface."
   ]
  },
  {
   "cell_type": "markdown",
   "metadata": {},
   "source": [
    "### Why Command Line now?\n",
    "- text is timeless interface, a stable interface\n",
    "- easy for automation"
   ]
  },
  {
   "cell_type": "markdown",
   "metadata": {},
   "source": [
    "# 1.2 What is Unix"
   ]
  },
  {
   "cell_type": "markdown",
   "metadata": {},
   "source": [
    "- Unix systems (\"Unix-like\") are derived from the original at&t unix from thier bell labs.\n",
    "- e.g. Mac OS, Linux\n",
    "- **POSIX:** Portable Operating System Interface (IEEE 1003)\n",
    "- Windows is outside of the developmental tree of unix. Options: WSL (Windows Subsystem for Linux)"
   ]
  },
  {
   "cell_type": "markdown",
   "metadata": {},
   "source": [
    "# 1.3 Command Line"
   ]
  },
  {
   "cell_type": "markdown",
   "metadata": {},
   "source": [
    "When the terminal starts up, it will automatically launch this shell. Then the shell is hooked up to the terminal and outputs to it and reads from the terminal's keyboard.  \n",
    "**Shell prompt:** e.g. lancey@LanceYing-PC:~$.  \n",
    "**\\$:** indicate that it's a shell prompt  \n",
    "\n",
    "**Common Shells:** bash and zsh"
   ]
  },
  {
   "cell_type": "markdown",
   "metadata": {},
   "source": [
    "**`ls`:** List directory.  \n",
    "**`ls -a`:** Pring everything in my directory. File starts with a dot (.) are considered hidden files.  "
   ]
  }
 ],
 "metadata": {
  "language_info": {
   "name": "python"
  }
 },
 "nbformat": 4,
 "nbformat_minor": 2
}
