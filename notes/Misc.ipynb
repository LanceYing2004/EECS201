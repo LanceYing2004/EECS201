{
 "cells": [
  {
   "cell_type": "markdown",
   "metadata": {},
   "source": [
    "### Some basic command for daily workflow"
   ]
  },
  {
   "cell_type": "markdown",
   "metadata": {},
   "source": [
    "**For downloading tarfile:** `wget --no-check-certificate <link>`\n",
    "\n",
    "**For Extracting:** `tar xzf <target file>`"
   ]
  }
 ],
 "metadata": {
  "language_info": {
   "name": "python"
  }
 },
 "nbformat": 4,
 "nbformat_minor": 2
}
