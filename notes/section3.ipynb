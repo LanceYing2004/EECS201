{
 "cells": [
  {
   "cell_type": "markdown",
   "metadata": {},
   "source": [
    "# 3.1 Unix 2"
   ]
  },
  {
   "cell_type": "markdown",
   "metadata": {},
   "source": [
    "**POSIX:** Portable Operating System Interface  \n",
    "**The Unix Philosophy:**\n",
    "- Write programs that do one thing and do it well\n",
    "- Write programs to work together\n",
    "- Write programs that handle text streams, because that's a universal interface"
   ]
  },
  {
   "cell_type": "markdown",
   "metadata": {},
   "source": [
    "# 3.2 Unix Principles"
   ]
  },
  {
   "cell_type": "markdown",
   "metadata": {},
   "source": [
    "### Kernel\n",
    "- Heart of the operating system\n",
    "- Manages computer hardware resources\n",
    "- Provides an interface of \"system calls\" that applications can use to have system tasks done such as \"opening files\"\\\n",
    "\n",
    "In general, it provides a stable Application Programming Interface (API) to users through system calls."
   ]
  },
  {
   "cell_type": "markdown",
   "metadata": {},
   "source": [
    "### Libraries\n",
    "- Pre-written code that applications can call upon\n",
    "- Handle stuff that would be annoying to write from scratch for each program"
   ]
  },
  {
   "cell_type": "markdown",
   "metadata": {},
   "source": [
    "### Applications\n",
    "- Porgrams that users can run to actually use the computer and get useful work done."
   ]
  },
  {
   "cell_type": "markdown",
   "metadata": {},
   "source": [
    "**Program:** Sequence of instructions to be performed (have the form of C++ or C)  \n",
    "**Process:** A running instance of a program"
   ]
  },
  {
   "cell_type": "markdown",
   "metadata": {},
   "source": [
    "Shells are bascially just programs that launch other programs and create processes that are running instances of them, hooking up their I/O ports to certain places (keyboard, redirection)."
   ]
  },
  {
   "cell_type": "markdown",
   "metadata": {},
   "source": [
    "# 3.3 Unix Processes"
   ]
  },
  {
   "cell_type": "markdown",
   "metadata": {},
   "source": [
    "In a Unix Process:\n",
    "- PID (process ID)\n",
    "- User who is running the process\n",
    "- Current working dir\n",
    "- Program image (list of instruction they are executing - programs)\n",
    "- Working memory (alloc memory, such as RAM)\n",
    "- Environment variables (e.g. str to str key mapping, value mapping) (home variable, user variable)\n",
    "- File descriptor table"
   ]
  },
  {
   "cell_type": "markdown",
   "metadata": {},
   "source": [
    "3 files that most processes have at birth:\n",
    "1. fd 0: standard input (such as `std::cout`)\n",
    "2. fd 1: standard output (such as `std::cin`)\n",
    "3. fd 2: stardard error (such as `std::err`)\n",
    "\n",
    "Note: all the functions like cout, cin, are actually abstractions on top of these system calls."
   ]
  },
  {
   "cell_type": "markdown",
   "metadata": {},
   "source": [
    "Process communication methods:\n",
    "- file interface (input/output), that is read from things or write to things\n",
    "- Signals:\n",
    "    - `man 7 signal` Information about signals on Unix\n",
    "    - `kill` send various kind of signals to process\n",
    "        - Ctrl + C, SIGINT, Signal Interrupt\n",
    "        - Ctrl + Z, SIGTSTP, Signal Terminal Stop\n"
   ]
  },
  {
   "cell_type": "markdown",
   "metadata": {},
   "source": [
    "`fork:` Create a near-perfect copy of the current process.  \n",
    "The child's PID is returned in the parent process while the child process is returned a 0.  \n",
    "\n",
    "`exec:` Load a new program, replacing the process's program image with a new one  \n",
    "`man execvp:` to get information on the exec command\n",
    "\n",
    "Note: `execvp()` is not a system call in itself, but a wrapper around the actual exec system call that makes it callable from C/C++ as well as providing some extra abstractions. (Similar to `fork()`)"
   ]
  },
  {
   "cell_type": "markdown",
   "metadata": {},
   "source": [
    "# 3.4 Unix Files"
   ]
  },
  {
   "cell_type": "markdown",
   "metadata": {},
   "source": [
    "File is like an interface (e.g. directory, pipes, device files)."
   ]
  },
  {
   "cell_type": "markdown",
   "metadata": {},
   "source": [
    "### Files Properties\n",
    "- Owners: user, group\n",
    "- Permissions: (r)ead, (w)rite, e(x)ecute (boolean permission such as: rwx 111 or rwx 101 or rwx 110 -> Decimal representation)\n",
    "- Permision Arrangement: 3 bits for the owner, 3 bits for the group, 3 bits for everyone else\n",
    "    - e.g. drwxr-xr-x, rwx for me, rx for the group and everyone else\n",
    "- Use `chmod` to change permissions: `chmod <decimal 0-7> <decimal 0-7> <decimal 0-7> <file_name>`\n",
    "- `chmod -<r/w/x> <file_name>` remove the a certain permission\n",
    "- `chmod +<r/w/x> <file_name>` add a certain permission\n",
    "- `chown` change owner of the file"
   ]
  },
  {
   "cell_type": "markdown",
   "metadata": {},
   "source": [
    "- **Softlinks:** a.k.a. \"symlinks\", a special kind of file that just refers to another file by its file path (shortcut on windows)  \n",
    "`ln -s <original_file> <new_linked_file>`  \n",
    "It's a named lunk to a file path.\n",
    "- **Hardlinks** Fundamental idea of a file. Hard links are just tagging a name to some chunk of data. (alias)  \n",
    "It's a named link to actual data, the typical \"file\""
   ]
  },
  {
   "cell_type": "markdown",
   "metadata": {},
   "source": [
    "# 3.5 Shell Background"
   ]
  },
  {
   "cell_type": "markdown",
   "metadata": {},
   "source": [
    "- Thompson shell\n",
    "- Mashey shell\n",
    "- Bourne shell\n",
    "    - Korn shell, derived from Bourne\n",
    "- POSIX shell is a subset of Korn\n",
    "- dash: Debian Almquist shell"
   ]
  },
  {
   "cell_type": "markdown",
   "metadata": {},
   "source": [
    "# 3.6 Shell Operation"
   ]
  },
  {
   "cell_type": "markdown",
   "metadata": {},
   "source": [
    "1. Shell will recieve input from the user, such as (`ls -l $HOME > some_file`)\n",
    "2. tokenization, splits the string into useful chunk of words or some special symbols\n",
    "3. replace special symbols such as `$HOME` to current local settings, such as `Users/lanceying`\n",
    "4. redirection symbol, handle redirection later, not going to include in the argument for now\n",
    "5. execution"
   ]
  },
  {
   "cell_type": "markdown",
   "metadata": {},
   "source": [
    "- `;`: line seperator\n",
    "- `&&` `||`: short circuting \"AND\" and \"OR\"\n",
    "\n",
    "e.g. test it out by `true && true && echo \"pass\"` and `ture || false || echo \"pass\"` (will not run echo \"pass\")\n"
   ]
  },
  {
   "cell_type": "markdown",
   "metadata": {},
   "source": [
    "### Output redirection\n",
    "- `<output_1> > <file_name>`, e.g. `echo \"pas\" > pas.txt`. This is overwrite mode. Additionally output like this will overwrite the original content on `pas.txt`\n",
    "- **Append mode:** `echo \"pas\" >> pas.txt`\n",
    "- **Output error mode:** `cat sldfjlasdkjflasj<file_doesn't exist> 2> lol.txt`, and by `cat lol.txt` will display the error message."
   ]
  },
  {
   "cell_type": "markdown",
   "metadata": {},
   "source": [
    "### Input redirection\n",
    "- `<input_destination> < <input_file>`. The input will read line by line from the file."
   ]
  },
  {
   "cell_type": "markdown",
   "metadata": {},
   "source": [
    "# 3.7 Variables"
   ]
  },
  {
   "cell_type": "markdown",
   "metadata": {},
   "source": [
    "**Setting variables in shell:** `x=world` (Do not leave spaces around the '='!)  \n",
    "`**$**`: will performs a text substitution for the variable. e.g. `echo $x` -> `world`\n",
    "- The command will be tokenized to `echo` and `$x`, and will replace `$x` with the value of `$x`.\n",
    "\n",
    "`**export <var>**:` set a variable as an environment variable, which could be used in any process in the shell onwards.  \n",
    "`<var>=<value> bash:` set this as environment variable for my next invocation of Bash"
   ]
  },
  {
   "cell_type": "markdown",
   "metadata": {},
   "source": [
    "# 3.8 PATH"
   ]
  },
  {
   "cell_type": "markdown",
   "metadata": {},
   "source": [
    "`echo $PATH`: display the current PATH on this machine  \n",
    "`./a.out`: based on my current directory, run `a.out`. Which is also a relative path in this case.  \n",
    "`which`: used to locate the executable file associated with a given command"
   ]
  },
  {
   "cell_type": "markdown",
   "metadata": {},
   "source": [
    "# 3.9 Executables and shell scripts"
   ]
  },
  {
   "cell_type": "markdown",
   "metadata": {},
   "source": [
    "**binaries:** Executables containing code that encoded in binary and meant for the computer hardware to directly read and execute.  \n",
    "**scripts:** Executables containing human-readable plain-text to be interpreted and run by another program. (#!/) It's bascially and indirect execution. If it wants to be more well-defined, then add #!/bin/sh"
   ]
  },
  {
   "cell_type": "markdown",
   "metadata": {},
   "source": [
    "### Script Operations\n",
    "- `#`: number of args\n",
    "- `@`: all args\n",
    "- `<number>`: arg\n",
    "\n",
    "`./myfirstscript`: making the interpreter determine what should run, if it's binaries or script.\n",
    "`bash myfirstscript`: bash, run the script"
   ]
  },
  {
   "cell_type": "markdown",
   "metadata": {},
   "source": [
    "# Notes from Lecture 1/31/2025"
   ]
  },
  {
   "cell_type": "markdown",
   "metadata": {},
   "source": [
    "`Ctrl + z`: suspend program  \n",
    "`fg`: continue the program  \n",
    "`fg %1`: foreground the first program if there's any  \n",
    "`jobs`: current suspended program"
   ]
  },
  {
   "cell_type": "markdown",
   "metadata": {},
   "source": [
    "`kill`: kill doesn't imply killing processes. It's a utility that can run to send whatever signal we want to a particular process.  \n",
    "`cd /dev/`: directory full of \"device files\""
   ]
  },
  {
   "cell_type": "markdown",
   "metadata": {},
   "source": [
    "shell operation:\n",
    "1. Receive a command from a file or terminal input\n",
    "2. Splits it into tokens separated by white-space (tokenize)\n",
    "3. Expands/substitutes special tokens\n",
    "4. perform file redirections (and making sure they don't end up as command args)\n",
    "5. execute command"
   ]
  },
  {
   "cell_type": "markdown",
   "metadata": {},
   "source": [
    "script are bascially files with shell commands in them"
   ]
  }
 ],
 "metadata": {
  "language_info": {
   "name": "python"
  }
 },
 "nbformat": 4,
 "nbformat_minor": 2
}
