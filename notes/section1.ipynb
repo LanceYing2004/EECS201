{
 "cells": [
  {
   "cell_type": "markdown",
   "metadata": {},
   "source": [
    "# 1.1 What is a Command Line"
   ]
  },
  {
   "cell_type": "markdown",
   "metadata": {},
   "source": [
    "**Command Line:** An interface to computer which relies on entirely on text.  \n",
    "**Terminal emulator:** e.g. zsh or command prompt. An input output device that allows the key input into something that the shell can use.  \n",
    "**Shell:** a sort of program that serves as an interface between the user of a computer and the computer itself. Will recieve return data and printed on the screen.  \n",
    "**Command Line Shell:** the shell that deals entirely with just text and uses text as its interface."
   ]
  },
  {
   "cell_type": "markdown",
   "metadata": {},
   "source": [
    "### Why Command Line now?\n",
    "- text is timeless interface, a stable interface\n",
    "- easy for automation"
   ]
  },
  {
   "cell_type": "markdown",
   "metadata": {},
   "source": [
    "# 1.2 What is Unix"
   ]
  },
  {
   "cell_type": "markdown",
   "metadata": {},
   "source": [
    "- Unix systems (\"Unix-like\") are derived from the original at&t unix from thier bell labs.\n",
    "- e.g. Mac OS, Linux\n",
    "- **POSIX:** Portable Operating System Interface (IEEE 1003)\n",
    "- Windows is outside of the developmental tree of unix. Options: WSL (Windows Subsystem for Linux)"
   ]
  },
  {
   "cell_type": "markdown",
   "metadata": {},
   "source": [
    "# 1.3 Command Line"
   ]
  },
  {
   "cell_type": "markdown",
   "metadata": {},
   "source": [
    "When the terminal starts up, it will automatically launch this shell. Then the shell is hooked up to the terminal and outputs to it and reads from the terminal's keyboard.  \n",
    "**Shell prompt:** e.g. lancey@LanceYing-PC:~$.  \n",
    "**\\$:** indicate that it's a shell prompt  \n",
    "\n",
    "**Common Shells:** bash and zsh"
   ]
  },
  {
   "cell_type": "markdown",
   "metadata": {},
   "source": [
    "### Command structure:"
   ]
  },
  {
   "cell_type": "code",
   "execution_count": null,
   "metadata": {
    "vscode": {
     "languageId": "shellscript"
    }
   },
   "outputs": [],
   "source": [
    "$ <command> <argument 1> <argument 2> <argument 3>"
   ]
  },
  {
   "cell_type": "markdown",
   "metadata": {},
   "source": [
    "- `$` is called a \"prompt\" and can take many forms\n",
    "- `<command>` certain things are actual programs, certain thins are handled by the shell\n",
    "- `> <` words separated by whitespace\n",
    "- `argument 1` parameters for the program (e.g. `argc` and `argv[]`)"
   ]
  },
  {
   "cell_type": "markdown",
   "metadata": {},
   "source": [
    "**`ls`:** List directory.  \n",
    "**`ls -a`:** Pring everything in my directory. File starts with a dot (.) are considered hidden files.  \n",
    "**`ls --help`:** Print out the instructions that can help me use this program. (long option)  \n",
    "**`ls -h`:** sometimes program don't accept short option for help. (short option)  \n",
    "**`ls <dir1> <dir2>...`:** printout all the files in the directories.  \n",
    "**`ls .`:** list out my current directory.  \n",
    "**`ls ..`:** list out my parent directory.  \n",
    "**`ls /`:** list out root."
   ]
  },
  {
   "cell_type": "markdown",
   "metadata": {},
   "source": [
    "**`pwd`:** Print Working Directory, which is the current directory.  \n",
    "\n",
    "Top level directory is the \"**root**\".  \n",
    "\n",
    "Example output: `/Users/lanceying`  \n",
    "That is: inside of the root directory, look for a directory called Users, look inside Users, find a file/directory called lanceying\n",
    "\n",
    "**Absolute path:** gives a concrete starting point, which is root, which is the beginning of the entire file system from the topmost directory. Leading \"/\" will makes it an absolute path.  \n",
    "**\\.:** current directory (of current directory).  \n",
    "**\\..:** parent directory (the directory that contains this directory) of current directory.  \n",
    "**Relative path:** specify a file/directory from the current location. Starting path without \"/\"."
   ]
  },
  {
   "cell_type": "markdown",
   "metadata": {},
   "source": [
    "**`cd`:** Change directory  \n",
    "**`cd ..`:** Change directory to parent directory  \n",
    "**`cd /Users/lanceying`** take from root directory to home directory  \n",
    "**`cd` or `cd ~`:** take straight to the home directory\n"
   ]
  },
  {
   "cell_type": "markdown",
   "metadata": {},
   "source": [
    "# 1.4 Getting Around with the Command Line"
   ]
  },
  {
   "cell_type": "markdown",
   "metadata": {},
   "source": [
    "**`man`:** Manual pages, display manual page for a certain command.  \n",
    "In linux culture, there is \"RTFM\", which stands for \"Read The Fucking Manual\" (lol)  \n",
    "\n",
    "**`touch`:** Make an empty file, need to have a parameter containing filename.  \n",
    "**`remove`:** Delete a file.  \n",
    "**`mkdir`:** Make a directory.  \n",
    "**`mv`:** Move file to some directory to another directory.  \n",
    "Example 1: `mv some-directory/some-file .`, that is move some-file from some-directory to current directory.  \n",
    "Example 2: `mv some-file some-other-file`, that is renaming some-file to some-other-file.  \n",
    "\n",
    "**`cat`:** concatenate, but it can be used to print out file.  \n",
    "**`cp`:** copy  \n",
    "Example: `cp hello.txt world.txt`, that is make a copy of hello.txt called world.txt.  \n",
    "\n",
    "**`grep`:** searches files for data matches \n",
    "\n",
    "For full reference: https://en.wikipedia.org/wiki/List_of_POSIX_commands"
   ]
  },
  {
   "cell_type": "markdown",
   "metadata": {},
   "source": [
    "**`echo`:** take command line arguments and print them out. Turning arguments into something terminal can use.  \n",
    "**`rev`:** reverse text.  \n",
    "**`|`:** pipeline  \n",
    "Example: `echo \"hello world\" | rev`, that is pass along the output of echo, and feed it into the input of rev.  \n",
    "\n",
    "**`>`:** output redirection  \n",
    "Example: `echo \"hello world\" > echo-output`, take the output of `echo \"hello world\"`, and save it into file called `echo-output`.  \n",
    "\n",
    "**`<`:** input redirection  \n",
    "Example: `rev < echo-output`, take the input of echo-output instead of from the keyboard.  \n",
    "\n",
    "**`nano some-file.txt`** or **`vim some-file.txt`**, text editors  \n",
    "\n",
    "**`whoami`:** gives the username of current account"
   ]
  },
  {
   "cell_type": "markdown",
   "metadata": {},
   "source": [
    "**`Ctrl + L`:** Clear the shell  \n",
    "**`Ctrl + D`:** EOF, signify End-Of-File  \n",
    "**`Ctrl + C`:** Terminate  \n",
    "**^(upper arrow):** Access previous commands  "
   ]
  },
  {
   "cell_type": "markdown",
   "metadata": {},
   "source": [
    "# 1.5 Getting an SSH Key"
   ]
  },
  {
   "cell_type": "markdown",
   "metadata": {},
   "source": [
    "Basic idea: key authentication, more secure using a password"
   ]
  },
  {
   "cell_type": "markdown",
   "metadata": {},
   "source": [
    "1. `ssh-keygen -t ed25519`, current accepted convention. `-C \"<comment>\"` to add comment.  \n",
    "2. Save the key to default location.  \n",
    "3. optional for passphrase.  \n",
    "4. `cd .ssh` access .ssh hidden directory\n",
    "5. There are going be 2 keys: `id_ed25519` and `id_ed25519.pub`. The .pub is public key, which gives to various service to tell the service that \"this computer is allowed to use the service\", which makes the computer known to whatever system that I'm going to connect to. **Private key should never be shared to anyone.**\n",
    "6. `cat id_ed25519.pub` to access the public key.\n"
   ]
  }
 ],
 "metadata": {
  "language_info": {
   "name": "python"
  }
 },
 "nbformat": 4,
 "nbformat_minor": 2
}
