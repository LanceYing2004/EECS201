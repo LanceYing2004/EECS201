{
 "cells": [
  {
   "cell_type": "markdown",
   "metadata": {},
   "source": [
    "# 4.1 Shell Introduction"
   ]
  },
  {
   "cell_type": "markdown",
   "metadata": {},
   "source": [
    "**Shells:** can both be an interactive program that interact with at the terminal, as well as an interpreter that can read from files that have shell commands in them to execute them.\n",
    "\n",
    "The script file are just multiple commands together.  \n",
    "The interpreter of the shebang is a design decision (portability vs. features).\n",
    "\n",
    "Most majority of 2 shells: sh shell and bash shell  \n",
    "\"Bashisms\": The features that's not defined on the POSIX (which is sh/POSIX shell).  \n",
    "\n",
    "**Bash Ref Manual:** https://www.gnu.org/software/bash/manual/bash.html\n"
   ]
  },
  {
   "cell_type": "markdown",
   "metadata": {},
   "source": [
    "# 4.2 Job Control"
   ]
  },
  {
   "cell_type": "markdown",
   "metadata": {},
   "source": [
    "when running the command normally, it's going to be known as foregrounded. Take up the terminal and take terminal's attention (take the keyboard inputs of the terminal, and output it to the terminal).  \n",
    "\n",
    "**Jobs table:** manage all the programs or commands that you've decided to Launch.  \n",
    "`jobs`: retrieve currently running jobs that the shell is managing right now.  \n",
    "`fg`: foreground a task, bring back the last thing that was suspended, not necessarily the last thing that was interacted with.  \n",
    "`bg`: background a task, run the process at the background, but also letting the shell prompt for input.\n",
    "\n",
    "If there are multiple jobs, then `fg` will resume the last thing that has suspended.  \n",
    "`fg %<job num>`: resume the number of the job specified.  \n",
    "\n",
    "`disown`: make the shell disown a process so it doesn't have to well manage it.\n"
   ]
  },
  {
   "cell_type": "markdown",
   "metadata": {},
   "source": [
    "C/C++: return 0 or 1 is to report back to whoever launched this process, and what status does it had.  \n",
    "- Exit status 0 is good/success/true\n",
    "- Exit status not 0 is bad/failure/false\n",
    "\n",
    "`echo $?`: get the value of exit status of last command  \n",
    "to save the exit status, could immediately assign that value it to a variable, such as: `some_var=$?`"
   ]
  },
  {
   "cell_type": "markdown",
   "metadata": {},
   "source": [
    "# 4.3 File Redirection"
   ]
  },
  {
   "cell_type": "markdown",
   "metadata": {},
   "source": [
    "`>` output redirection, overwrite mode: `echo \"hello world\" > file.txt`  \n",
    "It will erase whatever is in that file.\n",
    "\n",
    "`>>` output redirection, append mode: `echo \"dog cat\" >> file.txt`  \n",
    "It will append the content at the back.\n",
    "\n",
    "`<` input redirection: `rev < file.txt`  \n",
    "Recieve input from a file.\n",
    "\n",
    "`2>` std error redirection: `status 2> err.txt`  \n",
    "It will save the error message to a file."
   ]
  },
  {
   "cell_type": "markdown",
   "metadata": {},
   "source": [
    "`<<` Here document: `rev << LOL`  \n",
    "Allow you to directly supply a large string as input to a command. It will end when encountered the keyword\n",
    "\n",
    "`<<<` Here string (Bashism): `rev <<< \"hello world\"`  \n",
    "Allow you to directly supply a string as input to a command."
   ]
  },
  {
   "cell_type": "markdown",
   "metadata": {},
   "source": [
    "`app 5<&3` copy file descriptor 3 to file descriptor 5  \n",
    "`app 5<&3-` close file descriptor 3 afterwards  \n",
    "`echo 1>&2` copy file descriptor 2 over to file descriptor 1"
   ]
  },
  {
   "cell_type": "markdown",
   "metadata": {},
   "source": [
    "(Bashism): `echo \"hello world\" &> lol.txt`  \n",
    "This allows messages stuff from both std output or std error at the same place.  \n",
    "could also be applied with append mode `&>>`"
   ]
  },
  {
   "cell_type": "markdown",
   "metadata": {},
   "source": [
    "Keep the error message but make the std output message to disappear:  \n",
    "`./echo-err.sh > /dev/null`  \n",
    "\n",
    "Redirect std err to memory hole as well:  \n",
    "`./echo-err.sh > /dev/null 2> /dev/null`"
   ]
  },
  {
   "cell_type": "markdown",
   "metadata": {},
   "source": [
    "# 4.4 Command Grouping"
   ]
  },
  {
   "cell_type": "markdown",
   "metadata": {},
   "source": [
    "#### { commands; }\n",
    "- groups commands together as a unit\n",
    "- runs commands in current shell (that means variable set in command will able to access in shell)\n",
    "- curly braces needs spaces around them (put a space after curly braces beginning and end)\n",
    "- there needs to be a ; at the end of the command list\n",
    "\n",
    "Example:  \n",
    "`{ echo hello; echo world; echo dog; } > file.txt`\n",
    "\n"
   ]
  },
  {
   "cell_type": "markdown",
   "metadata": {},
   "source": [
    "#### (commands;)\n",
    "- group commands together as a unit\n",
    "- runs commands in a **new shell instance** (subshell) (the assignment will be appearing outside of scope, inaccessable outside of command)\n",
    "- doesn't require spaces around the parentheses\n",
    "\n",
    "Example:  \n",
    "`(echo hello; echo world; echo dog;) > file.txt`"
   ]
  },
  {
   "cell_type": "markdown",
   "metadata": {},
   "source": [
    "# 4.5 Expansion"
   ]
  },
  {
   "cell_type": "markdown",
   "metadata": {},
   "source": [
    "- Set a variable `cat=hello`\n",
    "- Variable & string concatnation `echo goodbye$cat`\n",
    "- Wrap around the variable name using `{}`: `echo ${cat}goodbye`\n",
    "- inline set variable: `echo ${dog:-world}` (if the dog doesn't have a value, then dog=world)\n",
    "- printout only if the variable is set: `echo ${dog:+world}`\n",
    "- other operand: `=`, `?`"
   ]
  },
  {
   "cell_type": "markdown",
   "metadata": {},
   "source": [
    "### Bash substring expansion (bashism)\n",
    "`${varname:offset}`: print the value after the offset value.  \n",
    "e.g. `dog=abcdefghijklmnop`, `echo ${dog:2}` will give `cdefghijklmnop`  \n",
    "\n",
    "`${varname:offset:length}`: print \"length\" characters after the offset value  \n",
    "e.g. `dog=abcdefghijklmnop`, `echo ${dog:2:}` will give `cdefg`  "
   ]
  },
  {
   "cell_type": "markdown",
   "metadata": {},
   "source": [
    "### file text substituion/wildcards\n",
    "e.g. find the file that starts with \"tty\" in /dev/:  \n",
    "`ls -l /dev/tty*`\n",
    "\n",
    "e.g. find the file that starts with \"tty\" and 1 unknown character in /dev/ (match 1 character):  \n",
    "`ls -l /dev/ttyw?`\n",
    "\n",
    "e.g. match a set of characters:  \n",
    "`ls -l /dev/ttyw[13579]`  \n",
    "(so it's either going to be ttyw1, ttyw3, ttyw5, ttyw7, ttyw9)"
   ]
  },
  {
   "cell_type": "markdown",
   "metadata": {},
   "source": [
    "### Command substitution"
   ]
  },
  {
   "cell_type": "markdown",
   "metadata": {},
   "source": [
    "Saving the commands into variables:  \n",
    "`x=$(echo \"hello\" | rev)`, which basically means the rev of hello will be stored in variable x.  \n",
    "\n",
    "Arithmetic expansion:  \n",
    "`$((expression))`, e.g. `x=$((3*5))`, `echo $x` will output 15.\n",
    "\n",
    "Representing x+=1: `x=$((x+1))`"
   ]
  },
  {
   "cell_type": "markdown",
   "metadata": {},
   "source": [
    "### Process substitution (bashism)"
   ]
  },
  {
   "cell_type": "markdown",
   "metadata": {},
   "source": [
    "See the difference between 2 files: `diff file1 file2`  \n",
    "\n",
    "- `<` means it's the expected output\n",
    "- `>` means it's the actual output\n",
    "\n",
    "Syntax: `diff {expected_output} {actual_output}`"
   ]
  },
  {
   "cell_type": "markdown",
   "metadata": {},
   "source": [
    "# 4.6 Quoting"
   ]
  },
  {
   "cell_type": "markdown",
   "metadata": {},
   "source": [
    "**Escaping:** Using `\\` to \"escape\" and do an alternate behavior  \n",
    "e.g. `mkdir dir\\ name\\ with\\ spaces`  \n",
    "\n",
    "**Single Quotes:** preserve all characters  \n",
    "e.g. `cd 'dir name with spaces'` or `echo 'my home is $HOME'` -> my home is $HOME  \n",
    "\n",
    "**Double Quotes:** preserve all characters besides $, \\\\, and `` ` `` (allow for expansions!)  \n",
    "e.g. `echo \"my home is $HOME\"` -> my home is /Users/lanceying  \n",
    "\n",
    "Combining with escaping and double quotes: `echo \"my home is \\\"$HOME\\\"\"` -> my home is \"/Users/lanceying\"  \n",
    "`\"my home is '$HOME'\"` -> my home is '/Users/lanceying'  \n",
    "\n",
    "To learn more: IFS (interfield separator)"
   ]
  },
  {
   "cell_type": "markdown",
   "metadata": {},
   "source": [
    "# 4.7 Control Flow"
   ]
  },
  {
   "cell_type": "markdown",
   "metadata": {},
   "source": [
    "### Conditional Tests\n",
    "\n",
    "The condition will run based on the exit status.  \n",
    "e.g. `if true; then echo \"success\"; fi`  \n",
    "\n",
    "`test` could be used to check on things  \n",
    "e.g. `test 5 -lt 3` and `$?` -> 1, which means that it's false and the exit status is 1.  \n",
    "e.g. `test 1 -lt 4` and `$?` -> 0, which means the expression evaluated as true and the exit status is 0.  \n",
    "Individual tests can wrapped together in a bracket: `[ 1 -lt 4 ]` or `[ 5 -lt 4 ]`, or `if [ 1 -lt 4 ]; then echo \"correct\"; fi`"
   ]
  },
  {
   "cell_type": "markdown",
   "metadata": {},
   "source": [
    "Combinational tests:  \n",
    "Note: whitespace is meaningful here."
   ]
  },
  {
   "cell_type": "code",
   "execution_count": null,
   "metadata": {
    "vscode": {
     "languageId": "shellscript"
    }
   },
   "outputs": [],
   "source": [
    "x=3\n",
    "if [ $x -lt 4 ]; then echo \"correct\"; else echo \"incorrect\"; fi\n",
    "\n",
    "x=7\n",
    "if test $x -lt 4 ; then echo \"correct\"; else echo \"incorrect\"; fi\n",
    "\n",
    "y=10\n",
    "if [ $x -lt 4 ] && [ $y -gt 6 ]; then echo \"yay\"; fi\n",
    "\n",
    "x=3\n",
    "y=7\n",
    "if ! [ $x -lt 4 ]; then echo \"yay\"; fi"
   ]
  },
  {
   "cell_type": "code",
   "execution_count": null,
   "metadata": {
    "vscode": {
     "languageId": "shellscript"
    }
   },
   "outputs": [],
   "source": [
    "#!/bin/sh\n",
    "if test-commands; then\n",
    "    commands\n",
    "elif more-test-commands; then\n",
    "    more-commands\n",
    "else\n",
    "    alt-commands\n",
    "fi"
   ]
  },
  {
   "cell_type": "markdown",
   "metadata": {},
   "source": [
    "Bashism commands:  \n",
    "e.g.  \n",
    "`a=\"hello\"` `b=\"goodbye\"`  \n",
    "`if [[ $a > $b ]]; then echo \"correct\"; fi` \n",
    "\n",
    "`[[]]` it's used for string comparisons, so:\n",
    "\n",
    "`a=100` `b=2`  \n",
    "`if [[ $a > $b ]]; then echo \"correct\"; fi` -> false, since 1 is before 2 in string order.  \n",
    "For arithmetic comparisons: `if [[ $a -gt $b ]]; then echo \"correct\"; fi` -> true or `if (( $a > $b )); then echo \"correct\"; fi`"
   ]
  },
  {
   "cell_type": "markdown",
   "metadata": {},
   "source": [
    "### While loop\n",
    "`while <conditional-commands>; do`  \n",
    "`done` -> terminate while loop  \n",
    "\n",
    "`until <conditional-commands>; do`  \n",
    "`done` -> until the conditional-command succeed"
   ]
  },
  {
   "cell_type": "code",
   "execution_count": null,
   "metadata": {
    "vscode": {
     "languageId": "shellscript"
    }
   },
   "outputs": [],
   "source": [
    "#!/bin/sh\n",
    "\n",
    "while test-commands; do\n",
    "    commands\n",
    "done\n",
    "\n",
    "until test-commands; do\n",
    "    commands\n",
    "done"
   ]
  },
  {
   "cell_type": "markdown",
   "metadata": {},
   "source": [
    "### For loop\n",
    "It's like a for each loop, where given a set and iterating items inside it.  \n",
    "e.g. `for var in list; do`  \n",
    "`done`, where the list is basically just some space delimited sequence of words or strings  \n",
    "\n",
    "`for x in 1 2 3 4; do echo $x; done`  \n",
    "output:  \n",
    "1  \n",
    "2  \n",
    "3  \n",
    "4  \n",
    "\n",
    "`for x in $(seq 1 10); do echo hello$x; done`  \n",
    "output:  \n",
    "hello1  \n",
    "hello2  \n",
    "hello3  \n",
    "hello4  \n",
    "hello5  \n",
    "hello6  \n",
    "hello7  \n",
    "hello8  \n",
    "hello9  \n",
    "hello10  "
   ]
  },
  {
   "cell_type": "code",
   "execution_count": null,
   "metadata": {
    "vscode": {
     "languageId": "shellscript"
    }
   },
   "outputs": [],
   "source": [
    "#!/bin/sh\n",
    "\n",
    "for var in list; do\n",
    "    commands\n",
    "done"
   ]
  },
  {
   "cell_type": "markdown",
   "metadata": {},
   "source": [
    "### Case statement\n",
    "value: can be expanded variables here as well  \n",
    "string patterns: setting up string patterns to match against  \n",
    "command: the command to be executed  \n",
    "multpat: could also match multiple patterns, i.e. (pattern1 or pattern2)  \n",
    "*: default case"
   ]
  },
  {
   "cell_type": "code",
   "execution_count": null,
   "metadata": {
    "vscode": {
     "languageId": "shellscript"
    }
   },
   "outputs": [],
   "source": [
    "#!/bin/sh\n",
    "case value in\n",
    "    pattern1 ) commands1 ;;\n",
    "    pattern2 ) commands2 ;;\n",
    "    multpat1 | multpat2 ) commands3 ;;\n",
    "    * ) commands\n",
    "esac"
   ]
  },
  {
   "cell_type": "markdown",
   "metadata": {},
   "source": [
    "### Functions"
   ]
  },
  {
   "cell_type": "code",
   "execution_count": null,
   "metadata": {
    "vscode": {
     "languageId": "shellscript"
    }
   },
   "outputs": [],
   "source": [
    "#!/bin/sh\n",
    "\n",
    "function-name () {\n",
    "    echo hello world\n",
    "}\n",
    "\n",
    "function-name2 () if [ x -eq 0 ]; then echo \"hello\"\n",
    "\n",
    "function function-name3 () compound-command #bashism"
   ]
  },
  {
   "cell_type": "markdown",
   "metadata": {},
   "source": [
    "Note: Functions work like mini shell-scripts: arguments work the exact same way with the @, #, and number variables  \n",
    "Arguments don't have to be declared like in other languages"
   ]
  }
 ],
 "metadata": {
  "language_info": {
   "name": "python"
  }
 },
 "nbformat": 4,
 "nbformat_minor": 2
}
