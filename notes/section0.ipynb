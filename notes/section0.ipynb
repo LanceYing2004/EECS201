{
 "cells": [
  {
   "cell_type": "markdown",
   "metadata": {},
   "source": [
    "# Syllabus"
   ]
  },
  {
   "cell_type": "markdown",
   "metadata": {},
   "source": [
    "#### LEC:\n",
    "Section 001 (23827), Fri 10:30 - 12:00, CHRYS 220  \n",
    "\n",
    "#### Instructor:\n",
    "Brandon Nguyen, brng@umich.edu"
   ]
  },
  {
   "cell_type": "markdown",
   "metadata": {},
   "source": [
    "#### Final Letter Grades:\n",
    "- [100, ∞): A+\n",
    "- [93, 100): A\n",
    "- [90, 93): A-\n",
    "- [87, 90): B+\n",
    "- [83, 87): B\n",
    "- [80, 83): B-"
   ]
  }
 ],
 "metadata": {
  "language_info": {
   "name": "python"
  }
 },
 "nbformat": 4,
 "nbformat_minor": 2
}
