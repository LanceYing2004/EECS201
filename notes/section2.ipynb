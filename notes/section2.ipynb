{
 "cells": [
  {
   "cell_type": "markdown",
   "metadata": {},
   "source": [
    "# 2.1 Version Control"
   ]
  },
  {
   "cell_type": "markdown",
   "metadata": {},
   "source": [
    "**Version Control:** the tracking of how a file changes over time in a given project.\n",
    "**Version Control Systems (VCS):**\n",
    "- **Centralized Version Control System (CVCS):** central server which performs all the versioning of the project's history. Downside, if the server is down, new modifications are not accpted.  \n",
    "Examples: Subversion (SVN), perforce\n",
    "- **Destributed Version Control System (DVCS):** allowing users to keep a copy of the history on their local machines. Allowing to perform versioning tasks on your own local computer. Benefits: if one of these copies goes down, then there are still other copies around.  \n",
    "Examples: Git, Mercurial"
   ]
  },
  {
   "cell_type": "markdown",
   "metadata": {},
   "source": [
    "# 2.2 Git\n",
    "**Git:** A distributed version control system created and developed by linus torvalds, to support\n"
   ]
  }
 ],
 "metadata": {
  "language_info": {
   "name": "python"
  }
 },
 "nbformat": 4,
 "nbformat_minor": 2
}
