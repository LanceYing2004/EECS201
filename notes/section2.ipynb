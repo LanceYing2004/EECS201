{
 "cells": [
  {
   "cell_type": "markdown",
   "metadata": {},
   "source": [
    "# 2.1 Version Control"
   ]
  },
  {
   "cell_type": "markdown",
   "metadata": {},
   "source": [
    "**Version Control:** the tracking of how a file changes over time in a given project.\n",
    "**Version Control Systems (VCS):**\n",
    "- **Centralized Version Control System (CVCS):** central server which performs all the versioning of the project's history. Downside, if the server is down, new modifications are not accpted.  \n",
    "Examples: Subversion (SVN), perforce\n",
    "- **Destributed Version Control System (DVCS):** allowing users to keep a copy of the history on their local machines. Allowing to perform versioning tasks on your own local computer. Benefits: if one of these copies goes down, then there are still other copies around.  \n",
    "Examples: Git, Mercurial"
   ]
  },
  {
   "cell_type": "markdown",
   "metadata": {},
   "source": [
    "# 2.2 Git\n",
    "**Git:** A distributed version control system created and developed by linus torvalds, to support this growing linux kernal project.\n"
   ]
  },
  {
   "cell_type": "markdown",
   "metadata": {},
   "source": [
    "### Initialize a git repo:\n",
    "1. `git init`, initialize a Git repo in the current dir\n",
    "2. `git add .`\n",
    "3. `git commit -m \"initial commit\"`\n"
   ]
  },
  {
   "cell_type": "markdown",
   "metadata": {},
   "source": [
    "**Repository:** everything that git is actually keeping track of, like a git database. It's represented in a .git directory  \n",
    "**Commit:** a checkpoint or a save point that stores the state of a given file at a given point in time  \n",
    "**Hash:** taking a bigger data and then compressing it into some smaller form. The hash could be used to identify the commit in case there's need to go back to a particular point in time etc.  \n",
    "**Commit History:** it's like a pointer/reference relationship of parents and child commit (Directed Acyclic Graph)  "
   ]
  },
  {
   "cell_type": "markdown",
   "metadata": {},
   "source": [
    "**Working Directory:** The actual file seeing in the file explorer/finder  \n",
    "**Staging Area(Index):** Put files in, to be bundled into the next commit  \n",
    "**Repository:** What the git is currently versioning and has its history  "
   ]
  },
  {
   "cell_type": "markdown",
   "metadata": {},
   "source": [
    "**untracked vs. modified:** untracked file exist on the file system but doesn't exist in the repo. Modified file exists but there's some change to the file that isn't reflected in the repo"
   ]
  },
  {
   "cell_type": "markdown",
   "metadata": {},
   "source": [
    "#### 4 Different State that a file can be in:\n",
    "1. Untracked - there's a file and it isn't part of the git repos history\n",
    "2. Unmodified - data hasn't changed relative to the repository\n",
    "3. Modified - there's a difference between file on git and file on the harddrive\n",
    "4. Staged - The file is in the staging area, is about to be commited"
   ]
  },
  {
   "cell_type": "markdown",
   "metadata": {},
   "source": [
    "Git documentation: https://git-scm.com/doc  \n",
    "Or: `man git init`, `man giteveryday`, `man gittutorial`\n"
   ]
  },
  {
   "cell_type": "markdown",
   "metadata": {},
   "source": [
    "# 2.3 Git Operations"
   ]
  },
  {
   "cell_type": "markdown",
   "metadata": {},
   "source": [
    "**`git init`:** Initialize a Git repository in the current directory  \n",
    "**`git status`:** tells the information on what's currently going on in the Git repo  \n",
    "**`git add`:** stage files to be commited\n",
    "- **`git add .`:** add every single file to the staging area\n",
    "- **`git add file1 file2`:** add those 2 files to the staging area\n",
    "- **`git add -u`:** take all the modified files and stage them\n",
    "\n",
    "Note: a common color for stage stuff is <span style=\"color:green\">green</span>.  \n",
    "\n",
    "**`git config --global core.editor nano`:** (Global flag is option, goint to affect all the directories) Set the core editor to nano.  \n",
    "\n",
    "**`git commit`:** commit the file, use the text editor to input the message afterwards.\n",
    "\n",
    "Note: if there's a message asking for personal information, then:  \n",
    "- `git config --global user.name \"Lance Y.\"`\n",
    "- `git config --global user.email \"lanying@umich.edu\"`\n",
    "\n",
    "To save the file in nano editor, it's `Ctrl + X`, to save the file in vim, it's `:wq`  \n",
    "\n",
    "**`git log`:** Show history of commits from the current commit  \n",
    "\n",
    "Note: a common color for modified stuff is <span style=\"color:red\">red</span>.  \n"
   ]
  },
  {
   "cell_type": "markdown",
   "metadata": {},
   "source": [
    "#### Git Commit Messages Guidelines:\n",
    "\n",
    "**Subject line (line 1):**\n",
    "- First line is the equivalent of subject line, short summary of what happened here\n",
    "- Captitalize the first word of the git commit message\n",
    "- Worded in present tense\n",
    "- At most 50 characters long\n",
    "\n",
    "**Body paragraph:**\n",
    "- up to 72 characters long\n",
    "- explain what changed and why\n",
    "- e.g. Fixes Bug #123\n",
    "\n",
    "Those will be showed up in git log."
   ]
  },
  {
   "cell_type": "markdown",
   "metadata": {},
   "source": [
    "# 2.4 Git Things Back (oopsie time)"
   ]
  },
  {
   "cell_type": "markdown",
   "metadata": {},
   "source": [
    "Common sceneario: the file is messed up, not compiling and not working, need to rollback.  \n",
    "**Git HEAD:** where we are currently are.  \n",
    "\n",
    "**Git parent:** the previous commit  \n",
    "**Git children:** the next commit"
   ]
  },
  {
   "cell_type": "markdown",
   "metadata": {},
   "source": [
    "#### Restore the Changes\n",
    "**`git restore <filename>`:** restore the specified file to what the current commit says it should be.  \n",
    "**`git checkout <filename>`:** more classic command of get back to the original state of the file."
   ]
  },
  {
   "cell_type": "markdown",
   "metadata": {},
   "source": [
    "#### Remove the File(s) from the Staging Area\n",
    "if the file has been already been added to the staging area by `git add -u`, then: **`git reset <filename>`**.  \n",
    "It will put the specified file back into the \"modified state\". The edited content will not be changed. It's just remove/unstage it from the staging area.  \n",
    "\n",
    "**`git reset HEAD~1`:** uncommit my current commit, take all the stuff in my current commit and spew it out. Take the HEAD back and move it back to the previous place (go to it's parent). Keep the files as current stage, but just the repository back."
   ]
  },
  {
   "cell_type": "markdown",
   "metadata": {},
   "source": [
    "#### Edit the Last Commit\n",
    "**`git commit --amend`:** take whatever's in the staging area and put it into the last commit and also open the editor to edit the message if necessary. (technically making a new commit). That is a new commit pointing back at the previous commit (from commit C to commit C')."
   ]
  },
  {
   "cell_type": "markdown",
   "metadata": {},
   "source": [
    "# 2.5 Git Branches"
   ]
  },
  {
   "cell_type": "markdown",
   "metadata": {},
   "source": [
    "Idea of branch: Don't want to interfere with the original main development pipeline (might breaking in the middle). It's like a experimental commits. When it's verified and complete, could merge everything to the base line."
   ]
  },
  {
   "cell_type": "markdown",
   "metadata": {},
   "source": [
    "**Current Branch:** The current commit stack that is following. That is, whenever there's a new commit, then it's going to add on that commit branch, and the branch will follow along."
   ]
  },
  {
   "cell_type": "markdown",
   "metadata": {},
   "source": [
    "#### Applications\n",
    "- Line of development\n",
    "- Developmental Milestones (version 1.0), and continue developing in the main line\n",
    "- Bug fixes"
   ]
  },
  {
   "cell_type": "markdown",
   "metadata": {},
   "source": [
    "1. when creating a new git repo, the git will automatically creates the initial branch\n",
    "2. check name of the initial branch: `(HEAD -> master)`"
   ]
  }
 ],
 "metadata": {
  "language_info": {
   "name": "python"
  }
 },
 "nbformat": 4,
 "nbformat_minor": 2
}
